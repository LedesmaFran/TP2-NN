{
 "cells": [
  {
   "cell_type": "markdown",
   "metadata": {},
   "source": [
    "# TP2 - Rossmann Store Sales\n",
    "Francisco Ledesma"
   ]
  },
  {
   "cell_type": "markdown",
   "metadata": {},
   "source": [
    "### 1 - ¿Qué son los Entity Embeddings y cómo se relacionan con las variables categóricas?\n",
    "\n",
    "Embeddings es la transformacion de un espacio multidimensional a un vector continuo.\n",
    "Esto es bueno por que las redes neuronales trabajan mejor con una variable continua que con las discretas. Esto se debe a que las neuronas hacen una transformacion lineal con una no linealidad dando un resultado que describe el mundo continuo. La idea de aplicar dicha transformacion es convertir las variables categoricas en variables continuas denominadas 'Entity Embeddings'"
   ]
  },
  {
   "cell_type": "markdown",
   "metadata": {},
   "source": [
    "### 2 - Explique la métrica utilizada en la competencia.\n",
    "la métrica utilizada es RMSPE: <br>\n",
    "$$\n",
    "\\textrm{RMSPE} = \\sqrt{\\frac{1}{n} \\sum_{i=1}^{n} \\left(\\frac{\\hat{y}_i - y_i}{y_i}\\right)^2}\n",
    "$$\n",
    "\n",
    "donde:\n",
    "\n",
    "- $y_i$ las ventas de un día particular de un store\n",
    "- $\\hat{y}_i$ ventas estimadas por el modelo\n",
    "- $n$ es el número de predicciones realizadas\n",
    "\n",
    "La metrica RMSPE es muy similar al RMSE, la diferencia radica en que esta metrica se inmuniza ante sesgos provocados por el balance de locales con mas o menos ventas. Ademas, los locales con mayor cantidad de ventas podrian provocar que la red no se adapte bien a los locales mas pequeños con un menor numero de ventas.\n",
    "Esto lo hace dividiendo la diferencia entre el valor predecido con el valor real por el valor real, es decir, normalizando el error."
   ]
  },
  {
   "cell_type": "code",
   "execution_count": 1,
   "metadata": {},
   "outputs": [],
   "source": [
    "from tensorflow.compat.v1 import ConfigProto\n",
    "from tensorflow.compat.v1 import InteractiveSession\n",
    "from tensorflow.keras.utils import to_categorical\n",
    "config = ConfigProto()\n",
    "config.gpu_options.allow_growth = True\n",
    "session = InteractiveSession(config=config)\n",
    "import pandas as pd\n",
    "import numpy as np\n",
    "import datetime\n",
    "from pandas_summary import DataFrameSummary"
   ]
  },
  {
   "cell_type": "code",
   "execution_count": 2,
   "metadata": {},
   "outputs": [],
   "source": [
    "df = pd.read_feather('feathers/train_normalized_data.fth')\n",
    "df_test = pd.read_feather('feathers/test_normalized_data.fth')"
   ]
  },
  {
   "cell_type": "code",
   "execution_count": 3,
   "metadata": {},
   "outputs": [],
   "source": [
    "cat_vars = ['Store', 'DayOfWeek', 'Year', 'Month', 'Day', 'StateHoliday', 'CompetitionMonthsOpen', 'Promo2Weeks', \n",
    "            'StoreType', 'Assortment', 'PromoInterval', 'CompetitionOpenSinceYear', 'Promo2SinceYear', 'State', \n",
    "            'Week', 'Events', 'Promo_fw', 'Promo_bw', 'StateHoliday_bool_fw', 'StateHoliday_bool_bw', 'SchoolHoliday_fw', 'SchoolHoliday_bw']\n",
    "# cat_vars = ['Store', 'DayOfWeek']"
   ]
  },
  {
   "cell_type": "code",
   "execution_count": 4,
   "metadata": {},
   "outputs": [],
   "source": [
    "contin_vars = ['CompetitionDistance', \n",
    "   'Max_TemperatureC', 'Mean_TemperatureC', 'Min_TemperatureC', 'Precipitationmm',\n",
    "   'Max_Humidity', 'Mean_Humidity', 'Min_Humidity', 'Max_Wind_SpeedKm_h', \n",
    "   'Mean_Wind_SpeedKm_h', 'CloudCover', 'trend', 'trend_DE',\n",
    "   'AfterStateHoliday_bool', 'BeforeStateHoliday_bool', 'Promo', 'SchoolHoliday', 'StateHoliday_bool']\n",
    "# contin_vars = ['BeforeStateHoliday_bool', 'Max_TemperatureC']"
   ]
  },
  {
   "cell_type": "code",
   "execution_count": 5,
   "metadata": {},
   "outputs": [
    {
     "data": {
      "text/html": [
       "<div>\n",
       "<style scoped>\n",
       "    .dataframe tbody tr th:only-of-type {\n",
       "        vertical-align: middle;\n",
       "    }\n",
       "\n",
       "    .dataframe tbody tr th {\n",
       "        vertical-align: top;\n",
       "    }\n",
       "\n",
       "    .dataframe thead th {\n",
       "        text-align: right;\n",
       "    }\n",
       "</style>\n",
       "<table border=\"1\" class=\"dataframe\">\n",
       "  <thead>\n",
       "    <tr style=\"text-align: right;\">\n",
       "      <th></th>\n",
       "      <th>uniques</th>\n",
       "    </tr>\n",
       "  </thead>\n",
       "  <tbody>\n",
       "    <tr>\n",
       "      <th>Store</th>\n",
       "      <td>1115</td>\n",
       "    </tr>\n",
       "    <tr>\n",
       "      <th>DayOfWeek</th>\n",
       "      <td>7</td>\n",
       "    </tr>\n",
       "    <tr>\n",
       "      <th>Year</th>\n",
       "      <td>3</td>\n",
       "    </tr>\n",
       "    <tr>\n",
       "      <th>Month</th>\n",
       "      <td>12</td>\n",
       "    </tr>\n",
       "    <tr>\n",
       "      <th>Day</th>\n",
       "      <td>31</td>\n",
       "    </tr>\n",
       "    <tr>\n",
       "      <th>StateHoliday</th>\n",
       "      <td>4</td>\n",
       "    </tr>\n",
       "    <tr>\n",
       "      <th>CompetitionMonthsOpen</th>\n",
       "      <td>25</td>\n",
       "    </tr>\n",
       "    <tr>\n",
       "      <th>Promo2Weeks</th>\n",
       "      <td>26</td>\n",
       "    </tr>\n",
       "    <tr>\n",
       "      <th>StoreType</th>\n",
       "      <td>4</td>\n",
       "    </tr>\n",
       "    <tr>\n",
       "      <th>Assortment</th>\n",
       "      <td>3</td>\n",
       "    </tr>\n",
       "    <tr>\n",
       "      <th>PromoInterval</th>\n",
       "      <td>4</td>\n",
       "    </tr>\n",
       "    <tr>\n",
       "      <th>CompetitionOpenSinceYear</th>\n",
       "      <td>21</td>\n",
       "    </tr>\n",
       "    <tr>\n",
       "      <th>Promo2SinceYear</th>\n",
       "      <td>8</td>\n",
       "    </tr>\n",
       "    <tr>\n",
       "      <th>State</th>\n",
       "      <td>12</td>\n",
       "    </tr>\n",
       "    <tr>\n",
       "      <th>Week</th>\n",
       "      <td>52</td>\n",
       "    </tr>\n",
       "    <tr>\n",
       "      <th>Events</th>\n",
       "      <td>22</td>\n",
       "    </tr>\n",
       "    <tr>\n",
       "      <th>Promo_fw</th>\n",
       "      <td>6</td>\n",
       "    </tr>\n",
       "    <tr>\n",
       "      <th>Promo_bw</th>\n",
       "      <td>6</td>\n",
       "    </tr>\n",
       "    <tr>\n",
       "      <th>StateHoliday_bool_fw</th>\n",
       "      <td>3</td>\n",
       "    </tr>\n",
       "    <tr>\n",
       "      <th>StateHoliday_bool_bw</th>\n",
       "      <td>3</td>\n",
       "    </tr>\n",
       "    <tr>\n",
       "      <th>SchoolHoliday_fw</th>\n",
       "      <td>8</td>\n",
       "    </tr>\n",
       "    <tr>\n",
       "      <th>SchoolHoliday_bw</th>\n",
       "      <td>8</td>\n",
       "    </tr>\n",
       "  </tbody>\n",
       "</table>\n",
       "</div>"
      ],
      "text/plain": [
       "                         uniques\n",
       "Store                       1115\n",
       "DayOfWeek                      7\n",
       "Year                           3\n",
       "Month                         12\n",
       "Day                           31\n",
       "StateHoliday                   4\n",
       "CompetitionMonthsOpen         25\n",
       "Promo2Weeks                   26\n",
       "StoreType                      4\n",
       "Assortment                     3\n",
       "PromoInterval                  4\n",
       "CompetitionOpenSinceYear      21\n",
       "Promo2SinceYear                8\n",
       "State                         12\n",
       "Week                          52\n",
       "Events                        22\n",
       "Promo_fw                       6\n",
       "Promo_bw                       6\n",
       "StateHoliday_bool_fw           3\n",
       "StateHoliday_bool_bw           3\n",
       "SchoolHoliday_fw               8\n",
       "SchoolHoliday_bw               8"
      ]
     },
     "execution_count": 5,
     "metadata": {},
     "output_type": "execute_result"
    }
   ],
   "source": [
    "uniques = DataFrameSummary(df[cat_vars]).summary().loc[['uniques']]\n",
    "uniques.T"
   ]
  },
  {
   "cell_type": "markdown",
   "metadata": {},
   "source": [
    "# Asignación de dimensión de embeddings"
   ]
  },
  {
   "cell_type": "code",
   "execution_count": 6,
   "metadata": {},
   "outputs": [],
   "source": [
    "cat_var_dict = {\n",
    "    'Store': 1115, \n",
    "    'DayOfWeek': 7, \n",
    "    'Year': 3, \n",
    "    'Month': 12,\n",
    "    'Day': 31, \n",
    "    'StateHoliday': 4, \n",
    "    'CompetitionMonthsOpen': 25,\n",
    "    'Promo2Weeks': 26,\n",
    "    'StoreType': 4,\n",
    "    'Assortment': 3,\n",
    "    'PromoInterval': 4,\n",
    "    'CompetitionOpenSinceYear': 21,\n",
    "    'Promo2SinceYear': 8, \n",
    "    'State': 12,\n",
    "    'Week': 52,\n",
    "    'Events': 22,\n",
    "    'Promo_fw': 6,\n",
    "    'Promo_bw': 6,\n",
    "    'StateHoliday_bool_fw': 3,\n",
    "    'StateHoliday_bool_bw': 3,\n",
    "    'SchoolHoliday_fw': 8,\n",
    "    'SchoolHoliday_bw': 8}"
   ]
  },
  {
   "cell_type": "code",
   "execution_count": 7,
   "metadata": {},
   "outputs": [
    {
     "name": "stdout",
     "output_type": "stream",
     "text": [
      "Store 1115 1115 [   0    1    2 ... 1112 1113 1114]\n",
      "\n",
      "DayOfWeek 7 7 [0 1 2 3 4 5 6]\n",
      "\n",
      "Year 3 3 [0 1 2]\n",
      "\n",
      "Month 12 12 [ 0  1  2  3  4  5  6  7  8  9 10 11]\n",
      "\n",
      "Day 31 31 [ 0  1  2  3  4  5  6  7  8  9 10 11 12 13 14 15 16 17 18 19 20 21 22 23\n",
      " 24 25 26 27 28 29 30]\n",
      "\n",
      "StateHoliday 4 4 [0 1 2 3]\n",
      "\n",
      "CompetitionMonthsOpen 25 25 [ 0  1  2  3  4  5  6  7  8  9 10 11 12 13 14 15 16 17 18 19 20 21 22 23\n",
      " 24]\n",
      "\n",
      "Promo2Weeks 26 26 [ 0  1  2  3  4  5  6  7  8  9 10 11 12 13 14 15 16 17 18 19 20 21 22 23\n",
      " 24 25]\n",
      "\n",
      "StoreType 4 4 [0 1 2 3]\n",
      "\n",
      "Assortment 3 3 [0 1 2]\n",
      "\n",
      "PromoInterval 4 4 [0 1 2 3]\n",
      "\n",
      "CompetitionOpenSinceYear 21 21 [ 0  1  2  3  4  5  6  7  8  9 10 11 12 13 14 15 16 17 18 19 20]\n",
      "\n",
      "Promo2SinceYear 8 8 [0 1 2 3 4 5 6 7]\n",
      "\n",
      "State 12 12 [ 0  1  2  3  4  5  6  7  8  9 10 11]\n",
      "\n",
      "Week 52 52 [ 0  1  2  3  4  5  6  7  8  9 10 11 12 13 14 15 16 17 18 19 20 21 22 23\n",
      " 24 25 26 27 28 29 30 31 32 33 34 35 36 37 38 39 40 41 42 43 44 45 46 47\n",
      " 48 49 50 51]\n",
      "\n",
      "Events 22 22 [ 0  1  2  3  4  5  6  7  8  9 10 11 12 13 14 15 16 17 18 19 20 21]\n",
      "\n",
      "Promo_fw 6 6 [0 1 2 3 4 5]\n",
      "\n",
      "Promo_bw 6 6 [0 1 2 3 4 5]\n",
      "\n",
      "StateHoliday_bool_fw 3 3 [0 1 2]\n",
      "\n",
      "StateHoliday_bool_bw 3 3 [0 1 2]\n",
      "\n",
      "SchoolHoliday_fw 8 8 [0 1 2 3 4 5 6 7]\n",
      "\n",
      "SchoolHoliday_bw 8 8 [0 1 2 3 4 5 6 7]\n",
      "\n"
     ]
    }
   ],
   "source": [
    "for v in cat_vars:\n",
    "    uniques_ = df[v].unique()\n",
    "    uniques_.sort()\n",
    "    print(v, cat_var_dict[v], len(uniques_), uniques_)\n",
    "    print()"
   ]
  },
  {
   "cell_type": "markdown",
   "metadata": {},
   "source": [
    "## Definición de modelo"
   ]
  },
  {
   "cell_type": "code",
   "execution_count": 8,
   "metadata": {},
   "outputs": [],
   "source": [
    "from tensorflow.keras.models import Model\n",
    "from tensorflow.keras.callbacks import ModelCheckpoint\n",
    "from tensorflow.keras.optimizers import Adam\n",
    "from tensorflow.keras.layers import Embedding, Input, Flatten, Concatenate, Dense, BatchNormalization, Activation, LeakyReLU, Dropout\n",
    "from tensorflow.keras.regularizers import l2"
   ]
  },
  {
   "cell_type": "code",
   "execution_count": 9,
   "metadata": {},
   "outputs": [],
   "source": [
    "def get_cat_vars_model(cat_vars, uniques, cat_var_dict):\n",
    "    cat_vars_embed_outs = []\n",
    "    cat_var_inputs = []\n",
    "    for cat_var in cat_vars:\n",
    "        cat_var_in = Input(shape=(1,), name=f\"{cat_var}_input\")\n",
    "        cat_var_inputs.append(cat_var_in)\n",
    "        embed_out = Embedding(uniques[cat_var][0], cat_var_dict[cat_var], name=f'{cat_var}_Embed')(cat_var_in)\n",
    "        flatten_out = Flatten(name=f\"{cat_var}_flat\")(embed_out)\n",
    "        cat_vars_embed_outs.append(flatten_out)\n",
    "    return cat_var_inputs, cat_vars_embed_outs\n",
    "\n",
    "def get_cont_vars_input(contin_vars, dense_layer=False):\n",
    "    cont_vars_inputs = []\n",
    "    cont_vars_outputs = []\n",
    "    for cont_var in contin_vars:\n",
    "        cont_var_in = Input(shape=(1,), name=f\"{cont_var}_input\")\n",
    "        cont_vars_inputs.append(cont_var_in)\n",
    "        if dense_layer:\n",
    "            cont_var_out = Dense(1, name=f\"{cont_var}_input\", activation = 'linear')(cont_var_in)\n",
    "            cont_vars_outputs.append(cont_var_out)\n",
    "        else:\n",
    "            cont_vars_outputs.append(cont_var_in)\n",
    "    return cont_vars_inputs, cont_vars_outputs"
   ]
  },
  {
   "cell_type": "code",
   "execution_count": 10,
   "metadata": {},
   "outputs": [],
   "source": [
    "add_customers = True\n",
    "log_output = True\n",
    "output_activation = 'linear'\n",
    "cat_var_inputs, cat_vars_embed_outs = get_cat_vars_model(cat_vars, uniques, cat_var_dict)\n",
    "cont_vars_inputs,  cont_vars_outs= get_cont_vars_input(contin_vars)"
   ]
  },
  {
   "cell_type": "code",
   "execution_count": 11,
   "metadata": {},
   "outputs": [],
   "source": [
    "first_hidden_units = 1500\n",
    "second_hidden_units = 500\n",
    "l2_lambda = 1e-4\n",
    "\n",
    "merged = Concatenate(name='All_Concatenate')(cat_vars_embed_outs + cont_vars_inputs)\n",
    "x = Dense(first_hidden_units, kernel_initializer=\"uniform\", kernel_regularizer=l2(l2_lambda))(merged)\n",
    "# x = BatchNormalization()(x)\n",
    "x = Activation('relu')(x)\n",
    "# x = LeakyReLU()(x)\n",
    "x = Dense(second_hidden_units, kernel_initializer=\"uniform\", kernel_regularizer=l2(l2_lambda))(x)\n",
    "# x = BatchNormalization()(x)\n",
    "x = Activation('relu')(x)\n",
    "# x = LeakyReLU()(x)\n",
    "\n",
    "output_1 = Dense(1, name='Sales', activation=output_activation)(x)\n",
    "output_2 = Dense(1, name='Customers', activation=output_activation)(x)"
   ]
  },
  {
   "cell_type": "code",
   "execution_count": 12,
   "metadata": {},
   "outputs": [
    {
     "name": "stdout",
     "output_type": "stream",
     "text": [
      "Model: \"model\"\n",
      "__________________________________________________________________________________________________\n",
      " Layer (type)                   Output Shape         Param #     Connected to                     \n",
      "==================================================================================================\n",
      " Store_input (InputLayer)       [(None, 1)]          0           []                               \n",
      "                                                                                                  \n",
      " DayOfWeek_input (InputLayer)   [(None, 1)]          0           []                               \n",
      "                                                                                                  \n",
      " Year_input (InputLayer)        [(None, 1)]          0           []                               \n",
      "                                                                                                  \n",
      " Month_input (InputLayer)       [(None, 1)]          0           []                               \n",
      "                                                                                                  \n",
      " Day_input (InputLayer)         [(None, 1)]          0           []                               \n",
      "                                                                                                  \n",
      " StateHoliday_input (InputLayer  [(None, 1)]         0           []                               \n",
      " )                                                                                                \n",
      "                                                                                                  \n",
      " CompetitionMonthsOpen_input (I  [(None, 1)]         0           []                               \n",
      " nputLayer)                                                                                       \n",
      "                                                                                                  \n",
      " Promo2Weeks_input (InputLayer)  [(None, 1)]         0           []                               \n",
      "                                                                                                  \n",
      " StoreType_input (InputLayer)   [(None, 1)]          0           []                               \n",
      "                                                                                                  \n",
      " Assortment_input (InputLayer)  [(None, 1)]          0           []                               \n",
      "                                                                                                  \n",
      " PromoInterval_input (InputLaye  [(None, 1)]         0           []                               \n",
      " r)                                                                                               \n",
      "                                                                                                  \n",
      " CompetitionOpenSinceYear_input  [(None, 1)]         0           []                               \n",
      "  (InputLayer)                                                                                    \n",
      "                                                                                                  \n",
      " Promo2SinceYear_input (InputLa  [(None, 1)]         0           []                               \n",
      " yer)                                                                                             \n",
      "                                                                                                  \n",
      " State_input (InputLayer)       [(None, 1)]          0           []                               \n",
      "                                                                                                  \n",
      " Week_input (InputLayer)        [(None, 1)]          0           []                               \n",
      "                                                                                                  \n",
      " Events_input (InputLayer)      [(None, 1)]          0           []                               \n",
      "                                                                                                  \n",
      " Promo_fw_input (InputLayer)    [(None, 1)]          0           []                               \n",
      "                                                                                                  \n",
      " Promo_bw_input (InputLayer)    [(None, 1)]          0           []                               \n",
      "                                                                                                  \n",
      " StateHoliday_bool_fw_input (In  [(None, 1)]         0           []                               \n",
      " putLayer)                                                                                        \n",
      "                                                                                                  \n",
      " StateHoliday_bool_bw_input (In  [(None, 1)]         0           []                               \n",
      " putLayer)                                                                                        \n",
      "                                                                                                  \n",
      " SchoolHoliday_fw_input (InputL  [(None, 1)]         0           []                               \n",
      " ayer)                                                                                            \n",
      "                                                                                                  \n",
      " SchoolHoliday_bw_input (InputL  [(None, 1)]         0           []                               \n",
      " ayer)                                                                                            \n",
      "                                                                                                  \n",
      " Store_Embed (Embedding)        (None, 1, 1115)      1243225     ['Store_input[0][0]']            \n",
      "                                                                                                  \n",
      " DayOfWeek_Embed (Embedding)    (None, 1, 7)         49          ['DayOfWeek_input[0][0]']        \n",
      "                                                                                                  \n",
      " Year_Embed (Embedding)         (None, 1, 3)         9           ['Year_input[0][0]']             \n",
      "                                                                                                  \n",
      " Month_Embed (Embedding)        (None, 1, 12)        144         ['Month_input[0][0]']            \n",
      "                                                                                                  \n",
      " Day_Embed (Embedding)          (None, 1, 31)        961         ['Day_input[0][0]']              \n",
      "                                                                                                  \n",
      " StateHoliday_Embed (Embedding)  (None, 1, 4)        16          ['StateHoliday_input[0][0]']     \n",
      "                                                                                                  \n",
      " CompetitionMonthsOpen_Embed (E  (None, 1, 25)       625         ['CompetitionMonthsOpen_input[0][\n",
      " mbedding)                                                       0]']                             \n",
      "                                                                                                  \n",
      " Promo2Weeks_Embed (Embedding)  (None, 1, 26)        676         ['Promo2Weeks_input[0][0]']      \n",
      "                                                                                                  \n",
      " StoreType_Embed (Embedding)    (None, 1, 4)         16          ['StoreType_input[0][0]']        \n",
      "                                                                                                  \n",
      " Assortment_Embed (Embedding)   (None, 1, 3)         9           ['Assortment_input[0][0]']       \n",
      "                                                                                                  \n",
      " PromoInterval_Embed (Embedding  (None, 1, 4)        16          ['PromoInterval_input[0][0]']    \n",
      " )                                                                                                \n",
      "                                                                                                  \n",
      " CompetitionOpenSinceYear_Embed  (None, 1, 21)       441         ['CompetitionOpenSinceYear_input[\n",
      "  (Embedding)                                                    0][0]']                          \n",
      "                                                                                                  \n",
      " Promo2SinceYear_Embed (Embeddi  (None, 1, 8)        64          ['Promo2SinceYear_input[0][0]']  \n",
      " ng)                                                                                              \n",
      "                                                                                                  \n",
      " State_Embed (Embedding)        (None, 1, 12)        144         ['State_input[0][0]']            \n",
      "                                                                                                  \n",
      " Week_Embed (Embedding)         (None, 1, 52)        2704        ['Week_input[0][0]']             \n",
      "                                                                                                  \n",
      " Events_Embed (Embedding)       (None, 1, 22)        484         ['Events_input[0][0]']           \n",
      "                                                                                                  \n",
      " Promo_fw_Embed (Embedding)     (None, 1, 6)         36          ['Promo_fw_input[0][0]']         \n",
      "                                                                                                  \n",
      " Promo_bw_Embed (Embedding)     (None, 1, 6)         36          ['Promo_bw_input[0][0]']         \n",
      "                                                                                                  \n",
      " StateHoliday_bool_fw_Embed (Em  (None, 1, 3)        9           ['StateHoliday_bool_fw_input[0][0\n",
      " bedding)                                                        ]']                              \n",
      "                                                                                                  \n",
      " StateHoliday_bool_bw_Embed (Em  (None, 1, 3)        9           ['StateHoliday_bool_bw_input[0][0\n",
      " bedding)                                                        ]']                              \n",
      "                                                                                                  \n",
      " SchoolHoliday_fw_Embed (Embedd  (None, 1, 8)        64          ['SchoolHoliday_fw_input[0][0]'] \n",
      " ing)                                                                                             \n",
      "                                                                                                  \n",
      " SchoolHoliday_bw_Embed (Embedd  (None, 1, 8)        64          ['SchoolHoliday_bw_input[0][0]'] \n",
      " ing)                                                                                             \n",
      "                                                                                                  \n",
      " Store_flat (Flatten)           (None, 1115)         0           ['Store_Embed[0][0]']            \n",
      "                                                                                                  \n",
      " DayOfWeek_flat (Flatten)       (None, 7)            0           ['DayOfWeek_Embed[0][0]']        \n",
      "                                                                                                  \n",
      " Year_flat (Flatten)            (None, 3)            0           ['Year_Embed[0][0]']             \n",
      "                                                                                                  \n",
      " Month_flat (Flatten)           (None, 12)           0           ['Month_Embed[0][0]']            \n",
      "                                                                                                  \n",
      " Day_flat (Flatten)             (None, 31)           0           ['Day_Embed[0][0]']              \n",
      "                                                                                                  \n",
      " StateHoliday_flat (Flatten)    (None, 4)            0           ['StateHoliday_Embed[0][0]']     \n",
      "                                                                                                  \n",
      " CompetitionMonthsOpen_flat (Fl  (None, 25)          0           ['CompetitionMonthsOpen_Embed[0][\n",
      " atten)                                                          0]']                             \n",
      "                                                                                                  \n",
      " Promo2Weeks_flat (Flatten)     (None, 26)           0           ['Promo2Weeks_Embed[0][0]']      \n",
      "                                                                                                  \n",
      " StoreType_flat (Flatten)       (None, 4)            0           ['StoreType_Embed[0][0]']        \n",
      "                                                                                                  \n",
      " Assortment_flat (Flatten)      (None, 3)            0           ['Assortment_Embed[0][0]']       \n",
      "                                                                                                  \n",
      " PromoInterval_flat (Flatten)   (None, 4)            0           ['PromoInterval_Embed[0][0]']    \n",
      "                                                                                                  \n",
      " CompetitionOpenSinceYear_flat   (None, 21)          0           ['CompetitionOpenSinceYear_Embed[\n",
      " (Flatten)                                                       0][0]']                          \n",
      "                                                                                                  \n",
      " Promo2SinceYear_flat (Flatten)  (None, 8)           0           ['Promo2SinceYear_Embed[0][0]']  \n",
      "                                                                                                  \n",
      " State_flat (Flatten)           (None, 12)           0           ['State_Embed[0][0]']            \n",
      "                                                                                                  \n",
      " Week_flat (Flatten)            (None, 52)           0           ['Week_Embed[0][0]']             \n",
      "                                                                                                  \n",
      " Events_flat (Flatten)          (None, 22)           0           ['Events_Embed[0][0]']           \n",
      "                                                                                                  \n",
      " Promo_fw_flat (Flatten)        (None, 6)            0           ['Promo_fw_Embed[0][0]']         \n",
      "                                                                                                  \n",
      " Promo_bw_flat (Flatten)        (None, 6)            0           ['Promo_bw_Embed[0][0]']         \n",
      "                                                                                                  \n",
      " StateHoliday_bool_fw_flat (Fla  (None, 3)           0           ['StateHoliday_bool_fw_Embed[0][0\n",
      " tten)                                                           ]']                              \n",
      "                                                                                                  \n",
      " StateHoliday_bool_bw_flat (Fla  (None, 3)           0           ['StateHoliday_bool_bw_Embed[0][0\n",
      " tten)                                                           ]']                              \n",
      "                                                                                                  \n",
      " SchoolHoliday_fw_flat (Flatten  (None, 8)           0           ['SchoolHoliday_fw_Embed[0][0]'] \n",
      " )                                                                                                \n",
      "                                                                                                  \n",
      " SchoolHoliday_bw_flat (Flatten  (None, 8)           0           ['SchoolHoliday_bw_Embed[0][0]'] \n",
      " )                                                                                                \n",
      "                                                                                                  \n",
      " CompetitionDistance_input (Inp  [(None, 1)]         0           []                               \n",
      " utLayer)                                                                                         \n",
      "                                                                                                  \n",
      " Max_TemperatureC_input (InputL  [(None, 1)]         0           []                               \n",
      " ayer)                                                                                            \n",
      "                                                                                                  \n",
      " Mean_TemperatureC_input (Input  [(None, 1)]         0           []                               \n",
      " Layer)                                                                                           \n",
      "                                                                                                  \n",
      " Min_TemperatureC_input (InputL  [(None, 1)]         0           []                               \n",
      " ayer)                                                                                            \n",
      "                                                                                                  \n",
      " Precipitationmm_input (InputLa  [(None, 1)]         0           []                               \n",
      " yer)                                                                                             \n",
      "                                                                                                  \n",
      " Max_Humidity_input (InputLayer  [(None, 1)]         0           []                               \n",
      " )                                                                                                \n",
      "                                                                                                  \n",
      " Mean_Humidity_input (InputLaye  [(None, 1)]         0           []                               \n",
      " r)                                                                                               \n",
      "                                                                                                  \n",
      " Min_Humidity_input (InputLayer  [(None, 1)]         0           []                               \n",
      " )                                                                                                \n",
      "                                                                                                  \n",
      " Max_Wind_SpeedKm_h_input (Inpu  [(None, 1)]         0           []                               \n",
      " tLayer)                                                                                          \n",
      "                                                                                                  \n",
      " Mean_Wind_SpeedKm_h_input (Inp  [(None, 1)]         0           []                               \n",
      " utLayer)                                                                                         \n",
      "                                                                                                  \n",
      " CloudCover_input (InputLayer)  [(None, 1)]          0           []                               \n",
      "                                                                                                  \n",
      " trend_input (InputLayer)       [(None, 1)]          0           []                               \n",
      "                                                                                                  \n",
      " trend_DE_input (InputLayer)    [(None, 1)]          0           []                               \n",
      "                                                                                                  \n",
      " AfterStateHoliday_bool_input (  [(None, 1)]         0           []                               \n",
      " InputLayer)                                                                                      \n",
      "                                                                                                  \n",
      " BeforeStateHoliday_bool_input   [(None, 1)]         0           []                               \n",
      " (InputLayer)                                                                                     \n",
      "                                                                                                  \n",
      " Promo_input (InputLayer)       [(None, 1)]          0           []                               \n",
      "                                                                                                  \n",
      " SchoolHoliday_input (InputLaye  [(None, 1)]         0           []                               \n",
      " r)                                                                                               \n",
      "                                                                                                  \n",
      " StateHoliday_bool_input (Input  [(None, 1)]         0           []                               \n",
      " Layer)                                                                                           \n",
      "                                                                                                  \n",
      " All_Concatenate (Concatenate)  (None, 1401)         0           ['Store_flat[0][0]',             \n",
      "                                                                  'DayOfWeek_flat[0][0]',         \n",
      "                                                                  'Year_flat[0][0]',              \n",
      "                                                                  'Month_flat[0][0]',             \n",
      "                                                                  'Day_flat[0][0]',               \n",
      "                                                                  'StateHoliday_flat[0][0]',      \n",
      "                                                                  'CompetitionMonthsOpen_flat[0][0\n",
      "                                                                 ]',                              \n",
      "                                                                  'Promo2Weeks_flat[0][0]',       \n",
      "                                                                  'StoreType_flat[0][0]',         \n",
      "                                                                  'Assortment_flat[0][0]',        \n",
      "                                                                  'PromoInterval_flat[0][0]',     \n",
      "                                                                  'CompetitionOpenSinceYear_flat[0\n",
      "                                                                 ][0]',                           \n",
      "                                                                  'Promo2SinceYear_flat[0][0]',   \n",
      "                                                                  'State_flat[0][0]',             \n",
      "                                                                  'Week_flat[0][0]',              \n",
      "                                                                  'Events_flat[0][0]',            \n",
      "                                                                  'Promo_fw_flat[0][0]',          \n",
      "                                                                  'Promo_bw_flat[0][0]',          \n",
      "                                                                  'StateHoliday_bool_fw_flat[0][0]\n",
      "                                                                 ',                               \n",
      "                                                                  'StateHoliday_bool_bw_flat[0][0]\n",
      "                                                                 ',                               \n",
      "                                                                  'SchoolHoliday_fw_flat[0][0]',  \n",
      "                                                                  'SchoolHoliday_bw_flat[0][0]',  \n",
      "                                                                  'CompetitionDistance_input[0][0]\n",
      "                                                                 ',                               \n",
      "                                                                  'Max_TemperatureC_input[0][0]', \n",
      "                                                                  'Mean_TemperatureC_input[0][0]',\n",
      "                                                                  'Min_TemperatureC_input[0][0]', \n",
      "                                                                  'Precipitationmm_input[0][0]',  \n",
      "                                                                  'Max_Humidity_input[0][0]',     \n",
      "                                                                  'Mean_Humidity_input[0][0]',    \n",
      "                                                                  'Min_Humidity_input[0][0]',     \n",
      "                                                                  'Max_Wind_SpeedKm_h_input[0][0]'\n",
      "                                                                 , 'Mean_Wind_SpeedKm_h_input[0][0\n",
      "                                                                 ]',                              \n",
      "                                                                  'CloudCover_input[0][0]',       \n",
      "                                                                  'trend_input[0][0]',            \n",
      "                                                                  'trend_DE_input[0][0]',         \n",
      "                                                                  'AfterStateHoliday_bool_input[0]\n",
      "                                                                 [0]',                            \n",
      "                                                                  'BeforeStateHoliday_bool_input[0\n",
      "                                                                 ][0]',                           \n",
      "                                                                  'Promo_input[0][0]',            \n",
      "                                                                  'SchoolHoliday_input[0][0]',    \n",
      "                                                                  'StateHoliday_bool_input[0][0]']\n",
      "                                                                                                  \n",
      " dense (Dense)                  (None, 1500)         2103000     ['All_Concatenate[0][0]']        \n",
      "                                                                                                  \n",
      " activation (Activation)        (None, 1500)         0           ['dense[0][0]']                  \n",
      "                                                                                                  \n",
      " dense_1 (Dense)                (None, 500)          750500      ['activation[0][0]']             \n",
      "                                                                                                  \n",
      " activation_1 (Activation)      (None, 500)          0           ['dense_1[0][0]']                \n",
      "                                                                                                  \n",
      " Sales (Dense)                  (None, 1)            501         ['activation_1[0][0]']           \n",
      "                                                                                                  \n",
      " Customers (Dense)              (None, 1)            501         ['activation_1[0][0]']           \n",
      "                                                                                                  \n",
      "==================================================================================================\n",
      "Total params: 4,104,303\n",
      "Trainable params: 4,104,303\n",
      "Non-trainable params: 0\n",
      "__________________________________________________________________________________________________\n"
     ]
    }
   ],
   "source": [
    "if add_customers:\n",
    "    model = Model(cat_var_inputs + cont_vars_inputs, [output_1, output_2])\n",
    "else: \n",
    "    model = Model(cat_var_inputs + cont_vars_inputs, [output_1])\n",
    "# Descomentar para ver\n",
    "model.summary()"
   ]
  },
  {
   "cell_type": "code",
   "execution_count": 13,
   "metadata": {},
   "outputs": [],
   "source": [
    "model.save_weights('weights/initial_weights.hdf5')"
   ]
  },
  {
   "cell_type": "code",
   "execution_count": 14,
   "metadata": {},
   "outputs": [
    {
     "name": "stdout",
     "output_type": "stream",
     "text": [
      "Cantidad en val: 30188, porcentaje: 0.9642465458145908\n"
     ]
    }
   ],
   "source": [
    "df_train = df[df.Date < datetime.datetime(2015, 7, 1)]  \n",
    "df_val = df[df.Date >= datetime.datetime(2015, 7, 1)]\n",
    "print(f'Cantidad en val: {len(df_val)}, porcentaje: {len(df_train)/(len(df_train) + len(df_val))}')"
   ]
  },
  {
   "cell_type": "code",
   "execution_count": 15,
   "metadata": {},
   "outputs": [
    {
     "name": "stderr",
     "output_type": "stream",
     "text": [
      "C:\\Users\\FranciscoDanielLedes\\AppData\\Local\\Temp\\ipykernel_12192\\1524812702.py:5: SettingWithCopyWarning: \n",
      "A value is trying to be set on a copy of a slice from a DataFrame.\n",
      "Try using .loc[row_indexer,col_indexer] = value instead\n",
      "\n",
      "See the caveats in the documentation: https://pandas.pydata.org/pandas-docs/stable/user_guide/indexing.html#returning-a-view-versus-a-copy\n",
      "  df_train.loc[:, 'mean_by_store'] = df_train['Store'].apply(stores_mean.get)\n",
      "C:\\Users\\FranciscoDanielLedes\\AppData\\Local\\Temp\\ipykernel_12192\\1524812702.py:6: SettingWithCopyWarning: \n",
      "A value is trying to be set on a copy of a slice from a DataFrame.\n",
      "Try using .loc[row_indexer,col_indexer] = value instead\n",
      "\n",
      "See the caveats in the documentation: https://pandas.pydata.org/pandas-docs/stable/user_guide/indexing.html#returning-a-view-versus-a-copy\n",
      "  df_val.loc[:, 'mean_by_store'] = df_val['Store'].apply(stores_mean.get)\n",
      "C:\\Users\\FranciscoDanielLedes\\AppData\\Local\\Temp\\ipykernel_12192\\1524812702.py:8: SettingWithCopyWarning: \n",
      "A value is trying to be set on a copy of a slice from a DataFrame.\n",
      "Try using .loc[row_indexer,col_indexer] = value instead\n",
      "\n",
      "See the caveats in the documentation: https://pandas.pydata.org/pandas-docs/stable/user_guide/indexing.html#returning-a-view-versus-a-copy\n",
      "  df_train.loc[:, 'Sales_store'] = df_train['Sales'] - df_train['mean_by_store']\n",
      "C:\\Users\\FranciscoDanielLedes\\AppData\\Local\\Temp\\ipykernel_12192\\1524812702.py:9: SettingWithCopyWarning: \n",
      "A value is trying to be set on a copy of a slice from a DataFrame.\n",
      "Try using .loc[row_indexer,col_indexer] = value instead\n",
      "\n",
      "See the caveats in the documentation: https://pandas.pydata.org/pandas-docs/stable/user_guide/indexing.html#returning-a-view-versus-a-copy\n",
      "  df_val.loc[:, 'Sales_store'] = df_val['Sales'] - df_val['mean_by_store']\n"
     ]
    }
   ],
   "source": [
    "stores_mean = {}\n",
    "for store, g_df in df_train.groupby('Store'):\n",
    "    stores_mean[store] = g_df[g_df['Sales'] > 0]['Sales'].mean()\n",
    "    \n",
    "df_train.loc[:, 'mean_by_store'] = df_train['Store'].apply(stores_mean.get)\n",
    "df_val.loc[:, 'mean_by_store'] = df_val['Store'].apply(stores_mean.get)\n",
    "\n",
    "df_train.loc[:, 'Sales_store'] = df_train['Sales'] - df_train['mean_by_store']\n",
    "df_val.loc[:, 'Sales_store'] = df_val['Sales'] - df_val['mean_by_store']"
   ]
  },
  {
   "cell_type": "code",
   "execution_count": 16,
   "metadata": {},
   "outputs": [],
   "source": [
    "from tensorflow.keras import backend as K"
   ]
  },
  {
   "cell_type": "code",
   "execution_count": 17,
   "metadata": {},
   "outputs": [],
   "source": [
    "def rmspe(y_true, y_pred):\n",
    "    return K.sqrt(K.mean(K.square((y_true - y_pred)/y_true)))\n",
    "def get_metric(df, sales_):\n",
    "    return np.sqrt((((df['Sales'] - sales_)/df['Sales'])**2).mean())"
   ]
  },
  {
   "cell_type": "code",
   "execution_count": 18,
   "metadata": {},
   "outputs": [
    {
     "data": {
      "text/plain": [
       "0.3071746085338871"
      ]
     },
     "execution_count": 18,
     "metadata": {},
     "output_type": "execute_result"
    }
   ],
   "source": [
    "get_metric(df_val, df_val['mean_by_store'])"
   ]
  },
  {
   "cell_type": "code",
   "execution_count": 19,
   "metadata": {},
   "outputs": [],
   "source": [
    "all_vars = cat_vars + contin_vars\n",
    "X_train = np.hsplit(df_train[all_vars].values, len(all_vars))\n",
    "X_val = np.hsplit(df_val[all_vars].values, len(all_vars))\n",
    "X_test = np.hsplit(df_test[all_vars].values, len(all_vars))"
   ]
  },
  {
   "cell_type": "code",
   "execution_count": 20,
   "metadata": {},
   "outputs": [
    {
     "name": "stderr",
     "output_type": "stream",
     "text": [
      "c:\\Users\\FranciscoDanielLedes\\AppData\\Local\\Programs\\Python\\Python310\\lib\\site-packages\\numpy\\core\\fromnumeric.py:84: FutureWarning: In a future version, DataFrame.max(axis=None) will return a scalar max over the entire DataFrame. To retain the old behavior, use 'frame.max(axis=0)' or just 'frame.max()'\n",
      "  return reduction(axis=axis, out=out, **passkwargs)\n"
     ]
    }
   ],
   "source": [
    "if add_customers:\n",
    "    y_out_columns = ['Sales', 'Customers']\n",
    "else:\n",
    "    y_out_columns = ['Sales_store']\n",
    "    \n",
    "if log_output:\n",
    "    # Escala logaritmica\n",
    "    max_log_y = np.max(np.log(df[y_out_columns])).values\n",
    "    y_train = np.log(df_train[y_out_columns].values)/max_log_y\n",
    "    y_val = np.log(df_val[y_out_columns].values)/max_log_y\n",
    "else:\n",
    "    # Normalización\n",
    "    y_mean = df_train[y_out_columns].mean().values\n",
    "    y_std = df_train[y_out_columns].std().values\n",
    "#     y_train = (df_train[y_out_columns].values - y_mean)/y_std\n",
    "#     y_val = (df_val[y_out_columns].values - y_mean)/y_std\n",
    "    y_max = df_train[y_out_columns].max().values\n",
    "    y_train = df_train[y_out_columns].values/y_max\n",
    "    y_val = df_val[y_out_columns].values/y_max\n",
    "y_train = np.hsplit(y_train, y_train.shape[1])\n",
    "y_val = np.hsplit(y_val, y_val.shape[1])"
   ]
  },
  {
   "cell_type": "code",
   "execution_count": 21,
   "metadata": {},
   "outputs": [
    {
     "name": "stderr",
     "output_type": "stream",
     "text": [
      "c:\\Users\\FranciscoDanielLedes\\AppData\\Local\\Programs\\Python\\Python310\\lib\\site-packages\\keras\\optimizers\\optimizer_v2\\adam.py:114: UserWarning: The `lr` argument is deprecated, use `learning_rate` instead.\n",
      "  super().__init__(name, **kwargs)\n"
     ]
    }
   ],
   "source": [
    "lr = 0.00008\n",
    "model.compile(optimizer=Adam(lr=lr), metrics=['mse', rmspe], loss='mse')"
   ]
  },
  {
   "cell_type": "code",
   "execution_count": 22,
   "metadata": {},
   "outputs": [],
   "source": [
    "if add_customers:\n",
    "    checkpoint = ModelCheckpoint('weights/bestmodel.hdf5', monitor='val_Sales_mse', verbose=1, save_best_only=True)\n",
    "else:\n",
    "    checkpoint = ModelCheckpoint('weights/bestmodel.hdf5', monitor='val_loss', verbose=1, save_best_only=True)"
   ]
  },
  {
   "cell_type": "code",
   "execution_count": 23,
   "metadata": {},
   "outputs": [
    {
     "name": "stdout",
     "output_type": "stream",
     "text": [
      "Epoch 1/10\n",
      "\n",
      "Epoch 1: val_Sales_mse improved from inf to 0.00034, saving model to weights\\bestmodel.hdf5\n",
      "6361/6361 - 360s - loss: 0.0481 - Sales_loss: 0.0016 - Customers_loss: 0.0017 - Sales_mse: 0.0016 - Sales_rmspe: 0.0311 - Customers_mse: 0.0017 - Customers_rmspe: 0.0372 - val_loss: 0.0049 - val_Sales_loss: 3.4253e-04 - val_Customers_loss: 4.1425e-04 - val_Sales_mse: 3.4253e-04 - val_Sales_rmspe: 0.0222 - val_Customers_mse: 4.1425e-04 - val_Customers_rmspe: 0.0274 - 360s/epoch - 57ms/step\n",
      "Epoch 2/10\n",
      "\n",
      "Epoch 2: val_Sales_mse improved from 0.00034 to 0.00028, saving model to weights\\bestmodel.hdf5\n",
      "6361/6361 - 348s - loss: 0.0017 - Sales_loss: 2.3414e-04 - Customers_loss: 2.7175e-04 - Sales_mse: 2.3414e-04 - Sales_rmspe: 0.0188 - Customers_mse: 2.7175e-04 - Customers_rmspe: 0.0231 - val_loss: 8.6004e-04 - val_Sales_loss: 2.8023e-04 - val_Customers_loss: 2.4798e-04 - val_Sales_mse: 2.8023e-04 - val_Sales_rmspe: 0.0198 - val_Customers_mse: 2.4798e-04 - val_Customers_rmspe: 0.0211 - 348s/epoch - 55ms/step\n",
      "Epoch 3/10\n",
      "\n",
      "Epoch 3: val_Sales_mse improved from 0.00028 to 0.00017, saving model to weights\\bestmodel.hdf5\n",
      "6361/6361 - 346s - loss: 5.4906e-04 - Sales_loss: 1.5958e-04 - Customers_loss: 1.7029e-04 - Sales_mse: 1.5958e-04 - Sales_rmspe: 0.0155 - Customers_mse: 1.7029e-04 - Customers_rmspe: 0.0181 - val_loss: 5.1327e-04 - val_Sales_loss: 1.7113e-04 - val_Customers_loss: 1.8261e-04 - val_Sales_mse: 1.7113e-04 - val_Sales_rmspe: 0.0155 - val_Customers_mse: 1.8261e-04 - val_Customers_rmspe: 0.0181 - 346s/epoch - 54ms/step\n",
      "Epoch 4/10\n",
      "\n",
      "Epoch 4: val_Sales_mse did not improve from 0.00017\n",
      "6361/6361 - 348s - loss: 4.2137e-04 - Sales_loss: 1.4109e-04 - Customers_loss: 1.4963e-04 - Sales_mse: 1.4109e-04 - Sales_rmspe: 0.0146 - Customers_mse: 1.4963e-04 - Customers_rmspe: 0.0170 - val_loss: 4.7904e-04 - val_Sales_loss: 1.7415e-04 - val_Customers_loss: 1.9491e-04 - val_Sales_mse: 1.7415e-04 - val_Sales_rmspe: 0.0156 - val_Customers_mse: 1.9491e-04 - val_Customers_rmspe: 0.0184 - 348s/epoch - 55ms/step\n",
      "Epoch 5/10\n",
      "\n",
      "Epoch 5: val_Sales_mse improved from 0.00017 to 0.00015, saving model to weights\\bestmodel.hdf5\n",
      "6361/6361 - 348s - loss: 3.6488e-04 - Sales_loss: 1.3022e-04 - Customers_loss: 1.3745e-04 - Sales_mse: 1.3022e-04 - Sales_rmspe: 0.0140 - Customers_mse: 1.3745e-04 - Customers_rmspe: 0.0162 - val_loss: 4.1350e-04 - val_Sales_loss: 1.5175e-04 - val_Customers_loss: 1.7261e-04 - val_Sales_mse: 1.5175e-04 - val_Sales_rmspe: 0.0147 - val_Customers_mse: 1.7261e-04 - val_Customers_rmspe: 0.0175 - 348s/epoch - 55ms/step\n",
      "Epoch 6/10\n",
      "\n",
      "Epoch 6: val_Sales_mse did not improve from 0.00015\n",
      "6361/6361 - 348s - loss: 3.3113e-04 - Sales_loss: 1.2215e-04 - Customers_loss: 1.2758e-04 - Sales_mse: 1.2215e-04 - Sales_rmspe: 0.0135 - Customers_mse: 1.2758e-04 - Customers_rmspe: 0.0157 - val_loss: 3.8836e-04 - val_Sales_loss: 1.5294e-04 - val_Customers_loss: 1.5941e-04 - val_Sales_mse: 1.5294e-04 - val_Sales_rmspe: 0.0147 - val_Customers_mse: 1.5941e-04 - val_Customers_rmspe: 0.0170 - 348s/epoch - 55ms/step\n",
      "Epoch 7/10\n",
      "\n",
      "Epoch 7: val_Sales_mse did not improve from 0.00015\n",
      "6361/6361 - 349s - loss: 3.0717e-04 - Sales_loss: 1.1507e-04 - Customers_loss: 1.1963e-04 - Sales_mse: 1.1507e-04 - Sales_rmspe: 0.0131 - Customers_mse: 1.1963e-04 - Customers_rmspe: 0.0152 - val_loss: 4.3267e-04 - val_Sales_loss: 1.7170e-04 - val_Customers_loss: 1.9179e-04 - val_Sales_mse: 1.7170e-04 - val_Sales_rmspe: 0.0155 - val_Customers_mse: 1.9179e-04 - val_Customers_rmspe: 0.0184 - 349s/epoch - 55ms/step\n",
      "Epoch 8/10\n",
      "\n",
      "Epoch 8: val_Sales_mse improved from 0.00015 to 0.00014, saving model to weights\\bestmodel.hdf5\n",
      "6361/6361 - 348s - loss: 2.9010e-04 - Sales_loss: 1.1004e-04 - Customers_loss: 1.1406e-04 - Sales_mse: 1.1004e-04 - Sales_rmspe: 0.0128 - Customers_mse: 1.1406e-04 - Customers_rmspe: 0.0148 - val_loss: 3.4358e-04 - val_Sales_loss: 1.3659e-04 - val_Customers_loss: 1.4375e-04 - val_Sales_mse: 1.3659e-04 - val_Sales_rmspe: 0.0139 - val_Customers_mse: 1.4375e-04 - val_Customers_rmspe: 0.0161 - 348s/epoch - 55ms/step\n",
      "Epoch 9/10\n",
      "\n",
      "Epoch 9: val_Sales_mse did not improve from 0.00014\n",
      "6361/6361 - 349s - loss: 2.7936e-04 - Sales_loss: 1.0733e-04 - Customers_loss: 1.1099e-04 - Sales_mse: 1.0733e-04 - Sales_rmspe: 0.0127 - Customers_mse: 1.1099e-04 - Customers_rmspe: 0.0146 - val_loss: 3.3932e-04 - val_Sales_loss: 1.3845e-04 - val_Customers_loss: 1.4138e-04 - val_Sales_mse: 1.3845e-04 - val_Sales_rmspe: 0.0140 - val_Customers_mse: 1.4138e-04 - val_Customers_rmspe: 0.0160 - 349s/epoch - 55ms/step\n",
      "Epoch 10/10\n",
      "\n",
      "Epoch 10: val_Sales_mse improved from 0.00014 to 0.00013, saving model to weights\\bestmodel.hdf5\n",
      "6361/6361 - 352s - loss: 2.7078e-04 - Sales_loss: 1.0516e-04 - Customers_loss: 1.0838e-04 - Sales_mse: 1.0516e-04 - Sales_rmspe: 0.0125 - Customers_mse: 1.0838e-04 - Customers_rmspe: 0.0144 - val_loss: 3.2508e-04 - val_Sales_loss: 1.3477e-04 - val_Customers_loss: 1.3428e-04 - val_Sales_mse: 1.3477e-04 - val_Sales_rmspe: 0.0139 - val_Customers_mse: 1.3428e-04 - val_Customers_rmspe: 0.0156 - 352s/epoch - 55ms/step\n"
     ]
    }
   ],
   "source": [
    "epochs = 10\n",
    "batch_size = 128\n",
    "history = model.fit(X_train, y_train, validation_data=(X_val, y_val),  epochs=epochs, batch_size=batch_size, callbacks=[checkpoint], verbose=2)"
   ]
  },
  {
   "cell_type": "code",
   "execution_count": 24,
   "metadata": {},
   "outputs": [],
   "source": [
    "import matplotlib.pyplot as plt"
   ]
  },
  {
   "cell_type": "code",
   "execution_count": 25,
   "metadata": {},
   "outputs": [
    {
     "data": {
      "image/png": "[encoded data removed]",
      "text/plain": [
       "<Figure size 432x288 with 1 Axes>"
      ]
     },
     "metadata": {
      "needs_background": "light"
     },
     "output_type": "display_data"
    },
    {
     "data": {
      "text/plain": [
       "[<matplotlib.lines.Line2D at 0x1dade10ca00>]"
      ]
     },
     "execution_count": 25,
     "metadata": {},
     "output_type": "execute_result"
    },
    {
     "data": {
      "image/png": "[encoded data removed]",
      "text/plain": [
       "<Figure size 432x288 with 1 Axes>"
      ]
     },
     "metadata": {
      "needs_background": "light"
     },
     "output_type": "display_data"
    }
   ],
   "source": [
    "plt.plot(history.history['val_loss'])\n",
    "plt.plot(history.history['val_Customers_mse'])\n",
    "plt.plot(history.history['val_Sales_mse'])\n",
    "plt.show()\n",
    "plt.plot(history.history['loss'])\n",
    "plt.plot(history.history['Customers_mse'])\n",
    "plt.plot(history.history['Sales_mse'])"
   ]
  },
  {
   "cell_type": "markdown",
   "metadata": {},
   "source": [
    "## Métrica\n",
    "$$\n",
    "\\textrm{RMSE} = \\sqrt{\\frac{1}{n} \\sum_{i=1}^{n} \\left(\\frac{\\hat{y}_i - y_i}{y_i}\\right)^2}\n",
    "$$"
   ]
  },
  {
   "cell_type": "code",
   "execution_count": 26,
   "metadata": {},
   "outputs": [
    {
     "name": "stdout",
     "output_type": "stream",
     "text": [
      "944/944 [==============================] - 7s 7ms/step - loss: 3.2508e-04 - Sales_loss: 1.3477e-04 - Customers_loss: 1.3427e-04 - Sales_mse: 1.3477e-04 - Sales_rmspe: 0.0137 - Customers_mse: 1.3427e-04 - Customers_rmspe: 0.0154\n"
     ]
    },
    {
     "data": {
      "text/plain": [
       "[0.0003250768349971622,\n",
       " 0.0001347742072539404,\n",
       " 0.00013427498925011605,\n",
       " 0.0001347742072539404,\n",
       " 0.01369885727763176,\n",
       " 0.00013427498925011605,\n",
       " 0.01542462408542633]"
      ]
     },
     "execution_count": 26,
     "metadata": {},
     "output_type": "execute_result"
    }
   ],
   "source": [
    "model.evaluate(X_val, y_val)"
   ]
  },
  {
   "cell_type": "code",
   "execution_count": 27,
   "metadata": {},
   "outputs": [
    {
     "name": "stdout",
     "output_type": "stream",
     "text": [
      "944/944 [==============================] - 7s 7ms/step - loss: 3.2508e-04 - Sales_loss: 1.3477e-04 - Customers_loss: 1.3427e-04 - Sales_mse: 1.3477e-04 - Sales_rmspe: 0.0137 - Customers_mse: 1.3427e-04 - Customers_rmspe: 0.0154\n"
     ]
    },
    {
     "data": {
      "text/plain": [
       "[0.0003250768349971622,\n",
       " 0.0001347742072539404,\n",
       " 0.00013427498925011605,\n",
       " 0.0001347742072539404,\n",
       " 0.01369885727763176,\n",
       " 0.00013427498925011605,\n",
       " 0.01542462408542633]"
      ]
     },
     "execution_count": 27,
     "metadata": {},
     "output_type": "execute_result"
    }
   ],
   "source": [
    "model.load_weights('weights/bestmodel.hdf5')\n",
    "model.evaluate(X_val, y_val)"
   ]
  },
  {
   "cell_type": "code",
   "execution_count": 28,
   "metadata": {},
   "outputs": [
    {
     "name": "stdout",
     "output_type": "stream",
     "text": [
      "944/944 [==============================] - 6s 6ms/step\n",
      "1284/1284 [==============================] - 8s 6ms/step\n"
     ]
    }
   ],
   "source": [
    "if log_output:\n",
    "    if add_customers:\n",
    "        y_pred = np.exp(model.predict(X_val, verbose=1)[0][:, 0]*max_log_y[0])\n",
    "        y_pred_test = np.exp(model.predict(X_test, verbose=1)[0][:, 0]*max_log_y[0])\n",
    "    else:\n",
    "        y_pred = np.exp(model.predict(X_val, verbose=1)*max_log_y)[:,0]\n",
    "        y_pred_test = np.exp(model.predict(X_test, verbose=1)*max_log_y)[:,0]\n",
    "else:\n",
    "    if add_customers:\n",
    "        y_pred = (model.predict(X_val, verbose=1)[0]*y_std[0] + y_mean[0])[:,0]\n",
    "        y_pred_test = (model.predict(X_test, verbose=1)[0]*y_std[0] + y_mean[0])[:,0]\n",
    "    else:\n",
    "#         y_pred = model.predict(X_val, verbose=1)[:,0]*y_std + y_mean\n",
    "#         y_pred_test = model.predict(X_test, verbose=1)[:,0]*y_std + y_mean\n",
    "        y_pred = model.predict(X_val, verbose=1)[:,0]*y_max\n",
    "        y_pred_test = model.predict(X_test, verbose=1)[:,0]*y_max\n",
    "y_pred_test[df_test['Open'] == 0] = 0"
   ]
  },
  {
   "cell_type": "code",
   "execution_count": 29,
   "metadata": {},
   "outputs": [
    {
     "data": {
      "text/plain": [
       "0.12952431421939176"
      ]
     },
     "execution_count": 29,
     "metadata": {},
     "output_type": "execute_result"
    }
   ],
   "source": [
    "np.sqrt((((df_val['Sales'].values - y_pred)/df_val['Sales'].values)**2).sum()/len(y_pred))"
   ]
  },
  {
   "cell_type": "code",
   "execution_count": 30,
   "metadata": {},
   "outputs": [],
   "source": [
    "final = pd.DataFrame(data=y_pred_test,columns=['Sales'])\n",
    "final.index.name = 'Id'\n",
    "final.index += 1\n",
    "final.to_csv('result/sample_submission_final.csv', sep=',', encoding='utf-8')\n"
   ]
  },
  {
   "cell_type": "markdown",
   "metadata": {},
   "source": [
    "## Analisis de embedings"
   ]
  },
  {
   "cell_type": "code",
   "execution_count": 31,
   "metadata": {},
   "outputs": [],
   "source": [
    "def plot_embed(layer_name, cat_names):\n",
    "    Y = model.get_layer(layer_name).get_weights()[0]\n",
    "    print(Y.shape)\n",
    "    plt.figure(figsize=(8,8))\n",
    "    plt.scatter(-Y[:, 0], -Y[:, 1])\n",
    "    for i, txt in enumerate(cat_names):\n",
    "        plt.annotate(txt, (-Y[i, 0],-Y[i, 1]), xytext = (-5, 8), textcoords = 'offset points')"
   ]
  },
  {
   "cell_type": "code",
   "execution_count": 33,
   "metadata": {},
   "outputs": [
    {
     "name": "stdout",
     "output_type": "stream",
     "text": [
      "(7, 7)\n"
     ]
    },
    {
     "data": {
      "image/png": "[encoded data removed]",
      "text/plain": [
       "<Figure size 576x576 with 1 Axes>"
      ]
     },
     "metadata": {
      "needs_background": "light"
     },
     "output_type": "display_data"
    }
   ],
   "source": [
    "model.load_weights('weights/bestmodel.hdf5')\n",
    "plot_embed('DayOfWeek_Embed', ['Mon', 'Tue', 'Wed', 'Thu', 'Fri', 'Sat','Sun'])"
   ]
  },
  {
   "cell_type": "code",
   "execution_count": 34,
   "metadata": {},
   "outputs": [
    {
     "name": "stdout",
     "output_type": "stream",
     "text": [
      "(12, 12)\n"
     ]
    },
    {
     "data": {
      "image/png": "[encoded data removed]",
      "text/plain": [
       "<Figure size 576x576 with 1 Axes>"
      ]
     },
     "metadata": {
      "needs_background": "light"
     },
     "output_type": "display_data"
    }
   ],
   "source": [
    "plot_embed('Month_Embed', list(range(12)))"
   ]
  },
  {
   "cell_type": "markdown",
   "metadata": {},
   "source": [
    "## Store embeddings"
   ]
  },
  {
   "cell_type": "code",
   "execution_count": 35,
   "metadata": {},
   "outputs": [],
   "source": [
    "submodel = Model(cat_var_inputs + cont_vars_inputs, merged)"
   ]
  },
  {
   "cell_type": "code",
   "execution_count": 36,
   "metadata": {},
   "outputs": [
    {
     "name": "stdout",
     "output_type": "stream",
     "text": [
      "Model: \"model_1\"\n",
      "__________________________________________________________________________________________________\n",
      " Layer (type)                   Output Shape         Param #     Connected to                     \n",
      "==================================================================================================\n",
      " Store_input (InputLayer)       [(None, 1)]          0           []                               \n",
      "                                                                                                  \n",
      " DayOfWeek_input (InputLayer)   [(None, 1)]          0           []                               \n",
      "                                                                                                  \n",
      " Year_input (InputLayer)        [(None, 1)]          0           []                               \n",
      "                                                                                                  \n",
      " Month_input (InputLayer)       [(None, 1)]          0           []                               \n",
      "                                                                                                  \n",
      " Day_input (InputLayer)         [(None, 1)]          0           []                               \n",
      "                                                                                                  \n",
      " StateHoliday_input (InputLayer  [(None, 1)]         0           []                               \n",
      " )                                                                                                \n",
      "                                                                                                  \n",
      " CompetitionMonthsOpen_input (I  [(None, 1)]         0           []                               \n",
      " nputLayer)                                                                                       \n",
      "                                                                                                  \n",
      " Promo2Weeks_input (InputLayer)  [(None, 1)]         0           []                               \n",
      "                                                                                                  \n",
      " StoreType_input (InputLayer)   [(None, 1)]          0           []                               \n",
      "                                                                                                  \n",
      " Assortment_input (InputLayer)  [(None, 1)]          0           []                               \n",
      "                                                                                                  \n",
      " PromoInterval_input (InputLaye  [(None, 1)]         0           []                               \n",
      " r)                                                                                               \n",
      "                                                                                                  \n",
      " CompetitionOpenSinceYear_input  [(None, 1)]         0           []                               \n",
      "  (InputLayer)                                                                                    \n",
      "                                                                                                  \n",
      " Promo2SinceYear_input (InputLa  [(None, 1)]         0           []                               \n",
      " yer)                                                                                             \n",
      "                                                                                                  \n",
      " State_input (InputLayer)       [(None, 1)]          0           []                               \n",
      "                                                                                                  \n",
      " Week_input (InputLayer)        [(None, 1)]          0           []                               \n",
      "                                                                                                  \n",
      " Events_input (InputLayer)      [(None, 1)]          0           []                               \n",
      "                                                                                                  \n",
      " Promo_fw_input (InputLayer)    [(None, 1)]          0           []                               \n",
      "                                                                                                  \n",
      " Promo_bw_input (InputLayer)    [(None, 1)]          0           []                               \n",
      "                                                                                                  \n",
      " StateHoliday_bool_fw_input (In  [(None, 1)]         0           []                               \n",
      " putLayer)                                                                                        \n",
      "                                                                                                  \n",
      " StateHoliday_bool_bw_input (In  [(None, 1)]         0           []                               \n",
      " putLayer)                                                                                        \n",
      "                                                                                                  \n",
      " SchoolHoliday_fw_input (InputL  [(None, 1)]         0           []                               \n",
      " ayer)                                                                                            \n",
      "                                                                                                  \n",
      " SchoolHoliday_bw_input (InputL  [(None, 1)]         0           []                               \n",
      " ayer)                                                                                            \n",
      "                                                                                                  \n",
      " Store_Embed (Embedding)        (None, 1, 1115)      1243225     ['Store_input[0][0]']            \n",
      "                                                                                                  \n",
      " DayOfWeek_Embed (Embedding)    (None, 1, 7)         49          ['DayOfWeek_input[0][0]']        \n",
      "                                                                                                  \n",
      " Year_Embed (Embedding)         (None, 1, 3)         9           ['Year_input[0][0]']             \n",
      "                                                                                                  \n",
      " Month_Embed (Embedding)        (None, 1, 12)        144         ['Month_input[0][0]']            \n",
      "                                                                                                  \n",
      " Day_Embed (Embedding)          (None, 1, 31)        961         ['Day_input[0][0]']              \n",
      "                                                                                                  \n",
      " StateHoliday_Embed (Embedding)  (None, 1, 4)        16          ['StateHoliday_input[0][0]']     \n",
      "                                                                                                  \n",
      " CompetitionMonthsOpen_Embed (E  (None, 1, 25)       625         ['CompetitionMonthsOpen_input[0][\n",
      " mbedding)                                                       0]']                             \n",
      "                                                                                                  \n",
      " Promo2Weeks_Embed (Embedding)  (None, 1, 26)        676         ['Promo2Weeks_input[0][0]']      \n",
      "                                                                                                  \n",
      " StoreType_Embed (Embedding)    (None, 1, 4)         16          ['StoreType_input[0][0]']        \n",
      "                                                                                                  \n",
      " Assortment_Embed (Embedding)   (None, 1, 3)         9           ['Assortment_input[0][0]']       \n",
      "                                                                                                  \n",
      " PromoInterval_Embed (Embedding  (None, 1, 4)        16          ['PromoInterval_input[0][0]']    \n",
      " )                                                                                                \n",
      "                                                                                                  \n",
      " CompetitionOpenSinceYear_Embed  (None, 1, 21)       441         ['CompetitionOpenSinceYear_input[\n",
      "  (Embedding)                                                    0][0]']                          \n",
      "                                                                                                  \n",
      " Promo2SinceYear_Embed (Embeddi  (None, 1, 8)        64          ['Promo2SinceYear_input[0][0]']  \n",
      " ng)                                                                                              \n",
      "                                                                                                  \n",
      " State_Embed (Embedding)        (None, 1, 12)        144         ['State_input[0][0]']            \n",
      "                                                                                                  \n",
      " Week_Embed (Embedding)         (None, 1, 52)        2704        ['Week_input[0][0]']             \n",
      "                                                                                                  \n",
      " Events_Embed (Embedding)       (None, 1, 22)        484         ['Events_input[0][0]']           \n",
      "                                                                                                  \n",
      " Promo_fw_Embed (Embedding)     (None, 1, 6)         36          ['Promo_fw_input[0][0]']         \n",
      "                                                                                                  \n",
      " Promo_bw_Embed (Embedding)     (None, 1, 6)         36          ['Promo_bw_input[0][0]']         \n",
      "                                                                                                  \n",
      " StateHoliday_bool_fw_Embed (Em  (None, 1, 3)        9           ['StateHoliday_bool_fw_input[0][0\n",
      " bedding)                                                        ]']                              \n",
      "                                                                                                  \n",
      " StateHoliday_bool_bw_Embed (Em  (None, 1, 3)        9           ['StateHoliday_bool_bw_input[0][0\n",
      " bedding)                                                        ]']                              \n",
      "                                                                                                  \n",
      " SchoolHoliday_fw_Embed (Embedd  (None, 1, 8)        64          ['SchoolHoliday_fw_input[0][0]'] \n",
      " ing)                                                                                             \n",
      "                                                                                                  \n",
      " SchoolHoliday_bw_Embed (Embedd  (None, 1, 8)        64          ['SchoolHoliday_bw_input[0][0]'] \n",
      " ing)                                                                                             \n",
      "                                                                                                  \n",
      " Store_flat (Flatten)           (None, 1115)         0           ['Store_Embed[0][0]']            \n",
      "                                                                                                  \n",
      " DayOfWeek_flat (Flatten)       (None, 7)            0           ['DayOfWeek_Embed[0][0]']        \n",
      "                                                                                                  \n",
      " Year_flat (Flatten)            (None, 3)            0           ['Year_Embed[0][0]']             \n",
      "                                                                                                  \n",
      " Month_flat (Flatten)           (None, 12)           0           ['Month_Embed[0][0]']            \n",
      "                                                                                                  \n",
      " Day_flat (Flatten)             (None, 31)           0           ['Day_Embed[0][0]']              \n",
      "                                                                                                  \n",
      " StateHoliday_flat (Flatten)    (None, 4)            0           ['StateHoliday_Embed[0][0]']     \n",
      "                                                                                                  \n",
      " CompetitionMonthsOpen_flat (Fl  (None, 25)          0           ['CompetitionMonthsOpen_Embed[0][\n",
      " atten)                                                          0]']                             \n",
      "                                                                                                  \n",
      " Promo2Weeks_flat (Flatten)     (None, 26)           0           ['Promo2Weeks_Embed[0][0]']      \n",
      "                                                                                                  \n",
      " StoreType_flat (Flatten)       (None, 4)            0           ['StoreType_Embed[0][0]']        \n",
      "                                                                                                  \n",
      " Assortment_flat (Flatten)      (None, 3)            0           ['Assortment_Embed[0][0]']       \n",
      "                                                                                                  \n",
      " PromoInterval_flat (Flatten)   (None, 4)            0           ['PromoInterval_Embed[0][0]']    \n",
      "                                                                                                  \n",
      " CompetitionOpenSinceYear_flat   (None, 21)          0           ['CompetitionOpenSinceYear_Embed[\n",
      " (Flatten)                                                       0][0]']                          \n",
      "                                                                                                  \n",
      " Promo2SinceYear_flat (Flatten)  (None, 8)           0           ['Promo2SinceYear_Embed[0][0]']  \n",
      "                                                                                                  \n",
      " State_flat (Flatten)           (None, 12)           0           ['State_Embed[0][0]']            \n",
      "                                                                                                  \n",
      " Week_flat (Flatten)            (None, 52)           0           ['Week_Embed[0][0]']             \n",
      "                                                                                                  \n",
      " Events_flat (Flatten)          (None, 22)           0           ['Events_Embed[0][0]']           \n",
      "                                                                                                  \n",
      " Promo_fw_flat (Flatten)        (None, 6)            0           ['Promo_fw_Embed[0][0]']         \n",
      "                                                                                                  \n",
      " Promo_bw_flat (Flatten)        (None, 6)            0           ['Promo_bw_Embed[0][0]']         \n",
      "                                                                                                  \n",
      " StateHoliday_bool_fw_flat (Fla  (None, 3)           0           ['StateHoliday_bool_fw_Embed[0][0\n",
      " tten)                                                           ]']                              \n",
      "                                                                                                  \n",
      " StateHoliday_bool_bw_flat (Fla  (None, 3)           0           ['StateHoliday_bool_bw_Embed[0][0\n",
      " tten)                                                           ]']                              \n",
      "                                                                                                  \n",
      " SchoolHoliday_fw_flat (Flatten  (None, 8)           0           ['SchoolHoliday_fw_Embed[0][0]'] \n",
      " )                                                                                                \n",
      "                                                                                                  \n",
      " SchoolHoliday_bw_flat (Flatten  (None, 8)           0           ['SchoolHoliday_bw_Embed[0][0]'] \n",
      " )                                                                                                \n",
      "                                                                                                  \n",
      " CompetitionDistance_input (Inp  [(None, 1)]         0           []                               \n",
      " utLayer)                                                                                         \n",
      "                                                                                                  \n",
      " Max_TemperatureC_input (InputL  [(None, 1)]         0           []                               \n",
      " ayer)                                                                                            \n",
      "                                                                                                  \n",
      " Mean_TemperatureC_input (Input  [(None, 1)]         0           []                               \n",
      " Layer)                                                                                           \n",
      "                                                                                                  \n",
      " Min_TemperatureC_input (InputL  [(None, 1)]         0           []                               \n",
      " ayer)                                                                                            \n",
      "                                                                                                  \n",
      " Precipitationmm_input (InputLa  [(None, 1)]         0           []                               \n",
      " yer)                                                                                             \n",
      "                                                                                                  \n",
      " Max_Humidity_input (InputLayer  [(None, 1)]         0           []                               \n",
      " )                                                                                                \n",
      "                                                                                                  \n",
      " Mean_Humidity_input (InputLaye  [(None, 1)]         0           []                               \n",
      " r)                                                                                               \n",
      "                                                                                                  \n",
      " Min_Humidity_input (InputLayer  [(None, 1)]         0           []                               \n",
      " )                                                                                                \n",
      "                                                                                                  \n",
      " Max_Wind_SpeedKm_h_input (Inpu  [(None, 1)]         0           []                               \n",
      " tLayer)                                                                                          \n",
      "                                                                                                  \n",
      " Mean_Wind_SpeedKm_h_input (Inp  [(None, 1)]         0           []                               \n",
      " utLayer)                                                                                         \n",
      "                                                                                                  \n",
      " CloudCover_input (InputLayer)  [(None, 1)]          0           []                               \n",
      "                                                                                                  \n",
      " trend_input (InputLayer)       [(None, 1)]          0           []                               \n",
      "                                                                                                  \n",
      " trend_DE_input (InputLayer)    [(None, 1)]          0           []                               \n",
      "                                                                                                  \n",
      " AfterStateHoliday_bool_input (  [(None, 1)]         0           []                               \n",
      " InputLayer)                                                                                      \n",
      "                                                                                                  \n",
      " BeforeStateHoliday_bool_input   [(None, 1)]         0           []                               \n",
      " (InputLayer)                                                                                     \n",
      "                                                                                                  \n",
      " Promo_input (InputLayer)       [(None, 1)]          0           []                               \n",
      "                                                                                                  \n",
      " SchoolHoliday_input (InputLaye  [(None, 1)]         0           []                               \n",
      " r)                                                                                               \n",
      "                                                                                                  \n",
      " StateHoliday_bool_input (Input  [(None, 1)]         0           []                               \n",
      " Layer)                                                                                           \n",
      "                                                                                                  \n",
      " All_Concatenate (Concatenate)  (None, 1401)         0           ['Store_flat[0][0]',             \n",
      "                                                                  'DayOfWeek_flat[0][0]',         \n",
      "                                                                  'Year_flat[0][0]',              \n",
      "                                                                  'Month_flat[0][0]',             \n",
      "                                                                  'Day_flat[0][0]',               \n",
      "                                                                  'StateHoliday_flat[0][0]',      \n",
      "                                                                  'CompetitionMonthsOpen_flat[0][0\n",
      "                                                                 ]',                              \n",
      "                                                                  'Promo2Weeks_flat[0][0]',       \n",
      "                                                                  'StoreType_flat[0][0]',         \n",
      "                                                                  'Assortment_flat[0][0]',        \n",
      "                                                                  'PromoInterval_flat[0][0]',     \n",
      "                                                                  'CompetitionOpenSinceYear_flat[0\n",
      "                                                                 ][0]',                           \n",
      "                                                                  'Promo2SinceYear_flat[0][0]',   \n",
      "                                                                  'State_flat[0][0]',             \n",
      "                                                                  'Week_flat[0][0]',              \n",
      "                                                                  'Events_flat[0][0]',            \n",
      "                                                                  'Promo_fw_flat[0][0]',          \n",
      "                                                                  'Promo_bw_flat[0][0]',          \n",
      "                                                                  'StateHoliday_bool_fw_flat[0][0]\n",
      "                                                                 ',                               \n",
      "                                                                  'StateHoliday_bool_bw_flat[0][0]\n",
      "                                                                 ',                               \n",
      "                                                                  'SchoolHoliday_fw_flat[0][0]',  \n",
      "                                                                  'SchoolHoliday_bw_flat[0][0]',  \n",
      "                                                                  'CompetitionDistance_input[0][0]\n",
      "                                                                 ',                               \n",
      "                                                                  'Max_TemperatureC_input[0][0]', \n",
      "                                                                  'Mean_TemperatureC_input[0][0]',\n",
      "                                                                  'Min_TemperatureC_input[0][0]', \n",
      "                                                                  'Precipitationmm_input[0][0]',  \n",
      "                                                                  'Max_Humidity_input[0][0]',     \n",
      "                                                                  'Mean_Humidity_input[0][0]',    \n",
      "                                                                  'Min_Humidity_input[0][0]',     \n",
      "                                                                  'Max_Wind_SpeedKm_h_input[0][0]'\n",
      "                                                                 , 'Mean_Wind_SpeedKm_h_input[0][0\n",
      "                                                                 ]',                              \n",
      "                                                                  'CloudCover_input[0][0]',       \n",
      "                                                                  'trend_input[0][0]',            \n",
      "                                                                  'trend_DE_input[0][0]',         \n",
      "                                                                  'AfterStateHoliday_bool_input[0]\n",
      "                                                                 [0]',                            \n",
      "                                                                  'BeforeStateHoliday_bool_input[0\n",
      "                                                                 ][0]',                           \n",
      "                                                                  'Promo_input[0][0]',            \n",
      "                                                                  'SchoolHoliday_input[0][0]',    \n",
      "                                                                  'StateHoliday_bool_input[0][0]']\n",
      "                                                                                                  \n",
      "==================================================================================================\n",
      "Total params: 1,249,801\n",
      "Trainable params: 1,249,801\n",
      "Non-trainable params: 0\n",
      "__________________________________________________________________________________________________\n"
     ]
    }
   ],
   "source": [
    "submodel.summary()"
   ]
  },
  {
   "cell_type": "code",
   "execution_count": null,
   "metadata": {},
   "outputs": [],
   "source": [
    "submodel.save('weights/embeddings_model.hdf5')"
   ]
  }
 ],
 "metadata": {
  "kernelspec": {
   "display_name": "Python 3.10.0 64-bit",
   "language": "python",
   "name": "python3"
  },
  "language_info": {
   "codemirror_mode": {
    "name": "ipython",
    "version": 3
   },
   "file_extension": ".py",
   "mimetype": "text/x-python",
   "name": "python",
   "nbconvert_exporter": "python",
   "pygments_lexer": "ipython3",
   "version": "3.10.0"
  },
  "orig_nbformat": 4,
  "vscode": {
   "interpreter": {
    "hash": "dd724817ebd2f637151ab7003c6e27ea24957a50d6b6ef245eeee2d95ef2c70f"
   }
  }
 },
 "nbformat": 4,
 "nbformat_minor": 2
}
